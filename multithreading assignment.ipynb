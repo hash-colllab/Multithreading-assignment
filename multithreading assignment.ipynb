{
  "metadata": {
    "kernelspec": {
      "name": "python",
      "display_name": "Python (Pyodide)",
      "language": "python"
    },
    "language_info": {
      "codemirror_mode": {
        "name": "python",
        "version": 3
      },
      "file_extension": ".py",
      "mimetype": "text/x-python",
      "name": "python",
      "nbconvert_exporter": "python",
      "pygments_lexer": "ipython3",
      "version": "3.8"
    }
  },
  "nbformat_minor": 4,
  "nbformat": 4,
  "cells": [
    {
      "cell_type": "code",
      "source": "# Ans 1:- Multithreading is defined as the ability of a processor to execute multiple threads concurrently.\n# In a simple, single-core CPU, it is achieved using frequent switching between threads. \n# Multithreading in Python enables better resource utilization, parallel execution, and efficient handling of concurren tasks.\n# Threading module is useed to handle threads.",
      "metadata": {
        "trusted": true
      },
      "outputs": [],
      "execution_count": 2
    },
    {
      "cell_type": "code",
      "source": "# Ans 2:- Threading module is used to handle multiple threads parallely.\n# ActiveCount = The method threading.active_co unt() from the threading module is used to count the currently\n#  active or running threads.\n#  currentThread = The threading.current_thread() is an inbuilt method of the threading module, it is used to return\n#  the current Thread object,which corresponds to the caller's thread of control.\n#  enumerate = The enumerate() function is a built-in function in Python that allows you to loop over an iterable object\n#  and keep track of the index of each item.\n",
      "metadata": {
        "trusted": true
      },
      "outputs": [],
      "execution_count": 4
    },
    {
      "cell_type": "code",
      "source": "# Ans 3:-",
      "metadata": {
        "trusted": true
      },
      "outputs": [],
      "execution_count": 5
    },
    {
      "cell_type": "code",
      "source": "l = [1,2,3,4,5]",
      "metadata": {
        "trusted": true
      },
      "outputs": [],
      "execution_count": 7
    },
    {
      "cell_type": "code",
      "source": "import threading\n\ndef print_square(num):\n    print(f\"Square: {num * num}\")\n\ndef print_cube(num):\n    print(f\"Cube: {num * num * num}\")\n\nif __name__ == \"__main__\":\n    t1 = threading.Thread(target=print_square, args=(10,))\n    t2 = threading.Thread(target=print_cube, args=(10,))\n    t1.start()\n    t2.start()\n    t1.join()\n    t2.join()\n    print(\"Done!\")\n",
      "metadata": {
        "trusted": true
      },
      "outputs": [],
      "execution_count": null
    },
    {
      "cell_type": "code",
      "source": "# Ans 5:- Advantages of multithreading:\n\n# Concurrency\n# Responsiveness\n# Resource Sharing\n# Efficiency for I/O-bound Tasks\n\n# Disadvantages of Multithreading:\n\n# Global Interpreter Lock (GIL)\n# Complexity in Synchronization\n# Overhead\n# Difficulty in Debugging\n",
      "metadata": {
        "trusted": true
      },
      "outputs": [],
      "execution_count": 12
    },
    {
      "cell_type": "code",
      "source": "# Ans 6:-  Deadlock occurs when two or more threads are blocked forever, waiting for each other to release resources\n#          that they need to continue execution.\n#  Race conditions occur when the outcome of a program depends on the timing or interleaving of multiple threads or processes\n#          accessing shared resources or variables.",
      "metadata": {
        "trusted": true
      },
      "outputs": [],
      "execution_count": 13
    },
    {
      "cell_type": "code",
      "source": "",
      "metadata": {
        "trusted": true
      },
      "outputs": [],
      "execution_count": null
    }
  ]
}